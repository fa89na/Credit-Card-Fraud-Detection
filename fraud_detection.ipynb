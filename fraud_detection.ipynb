{
  "nbformat": 4,
  "nbformat_minor": 0,
  "metadata": {
    "kernelspec": {
      "language": "python",
      "display_name": "Python 3",
      "name": "python3"
    },
    "language_info": {
      "pygments_lexer": "ipython3",
      "nbconvert_exporter": "python",
      "version": "3.6.4",
      "file_extension": ".py",
      "codemirror_mode": {
        "name": "ipython",
        "version": 3
      },
      "name": "python",
      "mimetype": "text/x-python"
    },
    "colab": {
      "name": "fraud detection.ipynb",
      "provenance": [],
      "collapsed_sections": []
    }
  },
  "cells": [
    {
      "cell_type": "code",
      "metadata": {
        "execution": {
          "iopub.status.busy": "2021-07-21T13:24:40.18538Z",
          "iopub.execute_input": "2021-07-21T13:24:40.18585Z",
          "iopub.status.idle": "2021-07-21T13:24:40.191757Z",
          "shell.execute_reply.started": "2021-07-21T13:24:40.185812Z",
          "shell.execute_reply": "2021-07-21T13:24:40.190683Z"
        },
        "trusted": true,
        "id": "k4hDIv0JuqXK"
      },
      "source": [
        "import numpy as np\n",
        "import pandas as pd\n",
        "import matplotlib.pyplot as plt\n",
        "import seaborn as sns\n",
        "import imblearn\n",
        "from imblearn.over_sampling import SMOTE\n",
        "import warnings\n",
        "warnings.filterwarnings('ignore')\n",
        "from sklearn.metrics import accuracy_score, confusion_matrix, classification_report,roc_auc_score\n",
        "from sklearn.neighbors import KNeighborsClassifier\n",
        "from sklearn.svm import SVC\n",
        "from sklearn.ensemble import RandomForestClassifier"
      ],
      "execution_count": null,
      "outputs": []
    },
    {
      "cell_type": "code",
      "metadata": {
        "execution": {
          "iopub.status.busy": "2021-07-21T13:24:44.96664Z",
          "iopub.execute_input": "2021-07-21T13:24:44.970356Z",
          "iopub.status.idle": "2021-07-21T13:24:48.474256Z",
          "shell.execute_reply.started": "2021-07-21T13:24:44.970278Z",
          "shell.execute_reply": "2021-07-21T13:24:48.472744Z"
        },
        "trusted": true,
        "id": "w8LGvBBtuqXN"
      },
      "source": [
        "df = pd.read_csv(\"data/creditcardfraud/creditcard.csv\")\n",
        "print(df.shape)"
      ],
      "execution_count": null,
      "outputs": []
    },
    {
      "cell_type": "code",
      "metadata": {
        "execution": {
          "iopub.status.busy": "2021-07-21T13:24:50.144657Z",
          "iopub.execute_input": "2021-07-21T13:24:50.145069Z",
          "iopub.status.idle": "2021-07-21T13:24:50.198828Z",
          "shell.execute_reply.started": "2021-07-21T13:24:50.145036Z",
          "shell.execute_reply": "2021-07-21T13:24:50.197567Z"
        },
        "trusted": true,
        "id": "GFkzvRtsuqXP"
      },
      "source": [
        "df.head(10)"
      ],
      "execution_count": null,
      "outputs": []
    },
    {
      "cell_type": "code",
      "metadata": {
        "execution": {
          "iopub.status.busy": "2021-07-21T13:24:53.551332Z",
          "iopub.execute_input": "2021-07-21T13:24:53.551841Z",
          "iopub.status.idle": "2021-07-21T13:24:53.583883Z",
          "shell.execute_reply.started": "2021-07-21T13:24:53.551796Z",
          "shell.execute_reply": "2021-07-21T13:24:53.582643Z"
        },
        "trusted": true,
        "id": "3xlFfniZuqXR"
      },
      "source": [
        "print(df.isna().sum())"
      ],
      "execution_count": null,
      "outputs": []
    },
    {
      "cell_type": "code",
      "metadata": {
        "execution": {
          "iopub.status.busy": "2021-07-21T13:24:56.995261Z",
          "iopub.execute_input": "2021-07-21T13:24:56.995742Z",
          "iopub.status.idle": "2021-07-21T13:25:04.393031Z",
          "shell.execute_reply.started": "2021-07-21T13:24:56.995699Z",
          "shell.execute_reply": "2021-07-21T13:25:04.392188Z"
        },
        "trusted": true,
        "id": "-oRboBXyuqXV"
      },
      "source": [
        "df.hist(bins=50,figsize=[20,20])\n",
        "plt.show()"
      ],
      "execution_count": null,
      "outputs": []
    },
    {
      "cell_type": "code",
      "metadata": {
        "execution": {
          "iopub.status.busy": "2021-07-21T13:25:09.310931Z",
          "iopub.execute_input": "2021-07-21T13:25:09.311635Z",
          "iopub.status.idle": "2021-07-21T13:25:09.494544Z",
          "shell.execute_reply.started": "2021-07-21T13:25:09.311578Z",
          "shell.execute_reply": "2021-07-21T13:25:09.493245Z"
        },
        "trusted": true,
        "id": "5kWwvWStuqXW"
      },
      "source": [
        "df['Class'].value_counts().plot.barh()\n",
        "plt.title(\"Number of fraudulant transations and legal transation\")\n",
        "df['Class'].value_counts()\n",
        "\n",
        "class_names = {0:'Not Fraud', 1:'Fraud'}\n",
        "rvs = df.Class.value_counts().rename(index = class_names)\n",
        "print(rvs)"
      ],
      "execution_count": null,
      "outputs": []
    },
    {
      "cell_type": "code",
      "metadata": {
        "execution": {
          "iopub.status.busy": "2021-07-21T13:25:13.409285Z",
          "iopub.execute_input": "2021-07-21T13:25:13.410029Z",
          "iopub.status.idle": "2021-07-21T13:25:13.416001Z",
          "shell.execute_reply.started": "2021-07-21T13:25:13.409967Z",
          "shell.execute_reply": "2021-07-21T13:25:13.414681Z"
        },
        "trusted": true,
        "id": "nSMBA1uEuqXX"
      },
      "source": [
        "# dataset is having huge difference in the number of records for each of it's target class.\n",
        "# So, it is an imbalanced dataset.\n",
        "#we have very less no of records for class 1 as compared to class 0 \n",
        "# so we would not we able to classify class 1 properly.\n",
        "\n",
        "# To overcome this problem, we use two sampling techniques.\n",
        "#     UnderSampling\n",
        "#     OverSampling\n",
        "\n",
        "# Undersampling techniques remove examples from the training dataset that belong to the majority class. \n",
        "# OverSampling direct opposite to UnderSampling, which adds new examples or copies and adds exiting examples.\n",
        "\n",
        "# Here, I use Oversampling, since undersampling may lead to lose of some information.\n",
        "# SMOTE is an oversampling technique. first it selects a minority class instance a at random \n",
        "# and finds its k nearest minority class neighbors. The synthetic instance is then created by \n",
        "# choosing one of the k nearest neighbors b at random and connecting a and b to form a line segment \n",
        "# in the feature space. The synthetic instances are generated as a convex combination of\n",
        "# the two chosen instances a and b. \n"
      ],
      "execution_count": null,
      "outputs": []
    },
    {
      "cell_type": "code",
      "metadata": {
        "execution": {
          "iopub.status.busy": "2021-07-21T13:25:15.192096Z",
          "iopub.execute_input": "2021-07-21T13:25:15.192878Z",
          "iopub.status.idle": "2021-07-21T13:25:15.238328Z",
          "shell.execute_reply.started": "2021-07-21T13:25:15.192821Z",
          "shell.execute_reply": "2021-07-21T13:25:15.236809Z"
        },
        "trusted": true,
        "id": "hYgTKyINuqXZ"
      },
      "source": [
        "x = df.drop(\"Class\",axis=1) \n",
        "y = df['Class']\n",
        "print(x.shape,y.shape)"
      ],
      "execution_count": null,
      "outputs": []
    },
    {
      "cell_type": "code",
      "metadata": {
        "execution": {
          "iopub.status.busy": "2021-07-21T13:25:16.578961Z",
          "iopub.execute_input": "2021-07-21T13:25:16.579432Z",
          "iopub.status.idle": "2021-07-21T13:25:16.743691Z",
          "shell.execute_reply.started": "2021-07-21T13:25:16.579392Z",
          "shell.execute_reply": "2021-07-21T13:25:16.742434Z"
        },
        "trusted": true,
        "id": "QTrfl4yQuqXa"
      },
      "source": [
        "#before SMOTE\n",
        "y.value_counts().plot.bar()"
      ],
      "execution_count": null,
      "outputs": []
    },
    {
      "cell_type": "code",
      "metadata": {
        "execution": {
          "iopub.status.busy": "2021-07-21T13:25:58.0815Z",
          "iopub.execute_input": "2021-07-21T13:25:58.082568Z",
          "iopub.status.idle": "2021-07-21T13:25:58.093499Z",
          "shell.execute_reply.started": "2021-07-21T13:25:58.082481Z",
          "shell.execute_reply": "2021-07-21T13:25:58.090935Z"
        },
        "trusted": true,
        "id": "77DSSiF-uqXb"
      },
      "source": [
        "from sklearn.model_selection import train_test_split"
      ],
      "execution_count": null,
      "outputs": []
    },
    {
      "cell_type": "code",
      "metadata": {
        "execution": {
          "iopub.status.busy": "2021-07-21T13:25:59.61581Z",
          "iopub.execute_input": "2021-07-21T13:25:59.616401Z",
          "iopub.status.idle": "2021-07-21T13:25:59.818481Z",
          "shell.execute_reply.started": "2021-07-21T13:25:59.616347Z",
          "shell.execute_reply": "2021-07-21T13:25:59.817459Z"
        },
        "trusted": true,
        "id": "WNF19hEwuqXc"
      },
      "source": [
        "x_train,x_test,y_train,y_test = train_test_split(x,y,random_state=42,test_size=.25)"
      ],
      "execution_count": null,
      "outputs": []
    },
    {
      "cell_type": "code",
      "metadata": {
        "execution": {
          "iopub.status.busy": "2021-07-21T13:26:01.996819Z",
          "iopub.execute_input": "2021-07-21T13:26:01.997439Z",
          "iopub.status.idle": "2021-07-21T13:26:02.911064Z",
          "shell.execute_reply.started": "2021-07-21T13:26:01.997397Z",
          "shell.execute_reply": "2021-07-21T13:26:02.909888Z"
        },
        "trusted": true,
        "id": "MdYyd3zVuqXd"
      },
      "source": [
        "smote = SMOTE(random_state=42)\n",
        "X,Y  = smote.fit_resample(x_train, y_train)\n",
        "\n",
        "print(\"AFTER SMOTE\")\n",
        "Y.value_counts().plot.bar()"
      ],
      "execution_count": null,
      "outputs": []
    },
    {
      "cell_type": "code",
      "metadata": {
        "execution": {
          "iopub.status.busy": "2021-07-21T13:26:04.867821Z",
          "iopub.execute_input": "2021-07-21T13:26:04.86843Z",
          "iopub.status.idle": "2021-07-21T13:26:04.877898Z",
          "shell.execute_reply.started": "2021-07-21T13:26:04.868378Z",
          "shell.execute_reply": "2021-07-21T13:26:04.876131Z"
        },
        "trusted": true,
        "id": "UZ6h8IK6uqXe"
      },
      "source": [
        "X.shape,Y.shape"
      ],
      "execution_count": null,
      "outputs": []
    },
    {
      "cell_type": "code",
      "metadata": {
        "execution": {
          "iopub.status.busy": "2021-07-21T13:26:06.047059Z",
          "iopub.execute_input": "2021-07-21T13:26:06.047517Z",
          "iopub.status.idle": "2021-07-21T13:26:07.747533Z",
          "shell.execute_reply.started": "2021-07-21T13:26:06.047481Z",
          "shell.execute_reply": "2021-07-21T13:26:07.745822Z"
        },
        "trusted": true,
        "id": "0Xqto3I-uqXg"
      },
      "source": [
        "plt.figure(figsize=(10,10))\n",
        "sns.heatmap(df.corr(),linewidths=.5,annot=False)"
      ],
      "execution_count": null,
      "outputs": []
    },
    {
      "cell_type": "code",
      "metadata": {
        "execution": {
          "iopub.status.busy": "2021-07-21T13:26:11.259182Z",
          "iopub.execute_input": "2021-07-21T13:26:11.259557Z",
          "iopub.status.idle": "2021-07-21T13:26:11.265855Z",
          "shell.execute_reply.started": "2021-07-21T13:26:11.25951Z",
          "shell.execute_reply": "2021-07-21T13:26:11.2642Z"
        },
        "trusted": true,
        "id": "lLgUx_gEuqXg"
      },
      "source": [
        "from sklearn.metrics import f1_score\n",
        "from sklearn.metrics import recall_score"
      ],
      "execution_count": null,
      "outputs": []
    },
    {
      "cell_type": "code",
      "metadata": {
        "execution": {
          "iopub.status.busy": "2021-07-21T12:33:30.812221Z",
          "iopub.execute_input": "2021-07-21T12:33:30.812871Z",
          "iopub.status.idle": "2021-07-21T12:40:53.23351Z",
          "shell.execute_reply.started": "2021-07-21T12:33:30.812823Z",
          "shell.execute_reply": "2021-07-21T12:40:53.232144Z"
        },
        "trusted": true,
        "id": "d2NA4odOuqXh"
      },
      "source": [
        "rf_clf = RandomForestClassifier()\n",
        "rf_clf.fit(X, Y)\n",
        "\n",
        "y_pred_rf_clf = rf_clf.predict(x_test)\n",
        "\n",
        "acc_rd_clf = accuracy_score(y_test, y_pred_rf_clf)\n",
        "conf = confusion_matrix(y_test, y_pred_rf_clf)\n",
        "clf_report = classification_report(y_test, y_pred_rf_clf)\n",
        "recall_rf = recall_score(y_test,y_pred_rf_clf)\n",
        "f1_rf = f1_score(y_test,y_pred_rf_clf)\n",
        "\n",
        "print(f\"Accuracy Score of Random Forest is : {acc_rd_clf}\")\n",
        "print(f\"Confusion Matrix : \\n{conf}\")\n",
        "print(f\"Classification Report : \\n{clf_report}\")\n",
        "print(f\"Recall : \\n{recall_rf}\")\n",
        "print(f\"F1 : \\n{f1_rf}\")"
      ],
      "execution_count": null,
      "outputs": []
    },
    {
      "cell_type": "code",
      "metadata": {
        "execution": {
          "iopub.status.busy": "2021-07-21T13:26:14.812819Z",
          "iopub.execute_input": "2021-07-21T13:26:14.813295Z",
          "iopub.status.idle": "2021-07-21T13:26:14.817848Z",
          "shell.execute_reply.started": "2021-07-21T13:26:14.813246Z",
          "shell.execute_reply": "2021-07-21T13:26:14.816792Z"
        },
        "trusted": true,
        "id": "aR7Bz2G5uqXi"
      },
      "source": [
        "from sklearn import svm"
      ],
      "execution_count": null,
      "outputs": []
    },
    {
      "cell_type": "code",
      "metadata": {
        "execution": {
          "iopub.status.busy": "2021-07-21T13:26:16.373653Z",
          "iopub.execute_input": "2021-07-21T13:26:16.374331Z"
        },
        "trusted": true,
        "id": "uzzVDKLjuqXj"
      },
      "source": [
        "svm_clf = svm.SVC()\n",
        "\n",
        "\n",
        "svm_clf.fit(X, Y)\n",
        "\n",
        "\n",
        "y_pred_svm_clf = svm_clf.predict(x_test)\n",
        "\n",
        "\n",
        "acc_svm_clf = accuracy_score(y_test, y_pred_svm_clf)\n",
        "conf_svm = confusion_matrix(y_test, y_pred_svm_clf)\n",
        "clf_report_svm = classification_report(y_test, y_pred_svm_clf)\n",
        "recall_svm = recall_score(y_test,y_pred_svm_clf)\n",
        "f1_svm = f1_score(y_test,y_pred_svm_clf)\n",
        "\n",
        "print(f\"Accuracy Score of SVM is : {acc_svm_clf}\")\n",
        "print(f\"Confusion Matrix : \\n{conf_svm}\")\n",
        "print(f\"Classification Report : \\n{clf_report_svm}\")\n",
        "print(f\"Recall : \\n{recall_svm}\")\n",
        "print(f\"F1 : \\n{f1_svm}\")"
      ],
      "execution_count": null,
      "outputs": []
    },
    {
      "cell_type": "code",
      "metadata": {
        "id": "zYn2SmPRuqXj"
      },
      "source": [
        "knn = KNeighborsClassifier()\n",
        "\n",
        "\n",
        "knn.fit(X, Y)\n",
        "\n",
        "\n",
        "y_pred_knn_clf = knn.predict(x_test)\n",
        "\n",
        "\n",
        "\n",
        "acc_knn_clf = accuracy_score(y_test, y_pred_knn_clf)\n",
        "conf_knn = confusion_matrix(y_test, y_pred_knn_clf)\n",
        "clf_report_knn = classification_report(y_test, y_pred_knn_clf)\n",
        "recall_knn = recall_score(y_test,y_pred_knn_clf)\n",
        "f1_knn = f1_score(y_test,y_pred_knn_clf)\n",
        "\n",
        "print(f\"Accuracy Score of KNN is : {acc_knn_clf}\")\n",
        "print(f\"Confusion Matrix : \\n{conf_knn}\")\n",
        "print(f\"Classification Report : \\n{clf_report_knn}\")\n",
        "print(f\"Recall : \\n{recall_knn}\")\n",
        "print(f\"F1 : \\n{f1_knn}\")"
      ],
      "execution_count": null,
      "outputs": []
    }
  ]
}